{
 "cells": [
  {
   "cell_type": "code",
   "execution_count": 68,
   "id": "7146f09c",
   "metadata": {},
   "outputs": [
    {
     "name": "stdout",
     "output_type": "stream",
     "text": [
      "Enter current date (YYYY/MM/DD): 2019/10/10\n",
      "Enter lookback period (Years): 1\n",
      "2018/10/10 2019/10/10\n",
      "Enter all stocks in your portfolio, once all have been entered, input 'Done'\n",
      "Enter next stock: AAPL\n",
      "Enter next stock: Remove\n",
      "AAPL has been removed from list\n",
      "Enter next stock: GME\n",
      "Enter next stock: AMC\n",
      "Enter next stock: Done\n"
     ]
    },
    {
     "name": "stderr",
     "output_type": "stream",
     "text": [
      "100%|██████████████████████████████████████████████████████████████████████████| 50000/50000 [00:26<00:00, 1882.02it/s]\n"
     ]
    },
    {
     "name": "stdout",
     "output_type": "stream",
     "text": [
      "Returns      -0.216971\n",
      "Volatility    0.480934\n",
      "GME weight    0.000091\n",
      "AMC weight    0.999909\n",
      "Name: 7781, dtype: float64\n"
     ]
    },
    {
     "data": {
      "image/png": "[encoded data removed]",
      "text/plain": [
       "<Figure size 720x720 with 1 Axes>"
      ]
     },
     "metadata": {
      "needs_background": "light"
     },
     "output_type": "display_data"
    }
   ],
   "source": [
    "# Load Packages\n",
    "import numpy as np\n",
    "import pandas as pd\n",
    "from pandas_datareader import data as read_in_data\n",
    "import matplotlib.pyplot as plt\n",
    "from time import sleep\n",
    "from tqdm import tqdm\n",
    "import re\n",
    "%matplotlib inline\n",
    "\n",
    "def read_data():\n",
    "    dateRegex = re.compile(r'(\\d\\d\\d\\d)/(\\d\\d)/(\\d\\d)')\n",
    "    current_date = input(\"Enter current date (YYYY/MM/DD): \")\n",
    "    if not dateRegex.findall(current_date):\n",
    "        print(\"This does not appear to be a valid date, try again\")\n",
    "        current_date = input(\"Enter current date (YYYY/MM/DD): \")\n",
    "    lookback = input(\"Enter lookback period (Years): \")\n",
    "    if not lookback.isdigit():\n",
    "        print(\"This does not appear to be a number of years, try again\")\n",
    "        lookback = input(\"Enter lookback period (Years): \")\n",
    "    finished_entry = False\n",
    "    stock_list = []\n",
    "    start_date = str(int(current_date[0:4]) - int(lookback)) + current_date[4:]\n",
    "    \n",
    "    print(start_date, current_date)\n",
    "    print(\"Enter all stocks in your portfolio, once all have been entered, input 'Done'\")\n",
    "    while finished_entry == False:\n",
    "        next_stock = input(\"Enter next stock: \")\n",
    "        \n",
    "        if next_stock == \"Done\":\n",
    "            finished_entry = True\n",
    "        elif next_stock == \"Remove\":\n",
    "            a = stock_list.pop()\n",
    "            print(a + \" has been removed from list\")\n",
    "        else:\n",
    "            try:\n",
    "                data.DataReader([next_stock], 'yahoo', start= start_date, end= current_date)\n",
    "                stock_list.append(next_stock)\n",
    "            except:\n",
    "                print(\"This does not appear to be a real stock, try again\")\n",
    "    return current_date, lookback, stock_list\n",
    "\n",
    "def create_optimal_portfolio(current_date, lookback, stock_list):\n",
    "    trading_days = 252\n",
    "    start_date = str(int(current_date[0:4]) - int(lookback)) + current_date[4:]\n",
    "    # Import data\n",
    "    df = read_in_data.DataReader(stock_list, 'yahoo', start=start_date, end=current_date)\n",
    "    # Closing price\n",
    "    df = df['Adj Close']\n",
    "    \n",
    "    '''\n",
    "    Creating random points to plot the efficient frontier\n",
    "    '''\n",
    "    p_ret = [] # Define an empty array for portfolio returns\n",
    "    p_vol = [] # Define an empty array for portfolio volatility\n",
    "    p_weights = [] # Define an empty array for asset weights\n",
    "\n",
    "    num_assets = len(df.columns)\n",
    "    num_portfolios = 50000\n",
    "    ind_er = df.resample('Y').last().pct_change().mean()\n",
    "    cov_matrix = df.pct_change().apply(lambda x: np.log(1+x)).cov()\n",
    "    for portfolio in  tqdm(range(num_portfolios)):\n",
    "        weights = np.random.random(num_assets)\n",
    "        weights = weights/np.sum(weights)\n",
    "        p_weights.append(weights)\n",
    "        returns = np.dot(weights, ind_er) # Returns are the product of individual expected returns of asset and its \n",
    "                                          # weights \n",
    "        p_ret.append(returns)\n",
    "        var = cov_matrix.mul(weights, axis=0).mul(weights, axis=1).sum().sum()# Portfolio Variance\n",
    "        sd = np.sqrt(var) # Daily standard deviation\n",
    "        ann_sd = sd*np.sqrt(trading_days) # Annual standard deviation = volatility\n",
    "        p_vol.append(ann_sd)\n",
    "\n",
    "    data = {'Returns':p_ret, 'Volatility':p_vol}\n",
    "\n",
    "    for counter, symbol in enumerate(df.columns.tolist()):\n",
    "        #print(counter, symbol)\n",
    "        data[symbol+' weight'] = [w[counter] for w in p_weights]\n",
    "\n",
    "    portfolios  = pd.DataFrame(data)\n",
    "    \n",
    "    # Finding the optimal portfolio\n",
    "    rf = 0.0159 # risk-free rate - US Government Bond\n",
    "    optimal_risky_port = portfolios.iloc[((portfolios['Returns']-rf)/portfolios['Volatility']).idxmax()]\n",
    "    \n",
    "    # Plotting optimal portfolio\n",
    "    plt.subplots(figsize=(10, 10))\n",
    "    plt.scatter(portfolios['Volatility'], portfolios['Returns'],marker='o', s=10, alpha=0.3)\n",
    "    plt.scatter(optimal_risky_port[1], optimal_risky_port[0], color='g', marker='*', s=500)\n",
    "    print(optimal_risky_port)\n",
    "    return optimal_risky_port\n",
    "\n",
    "def main():\n",
    "    current_date, lookback, stock_list = read_data()\n",
    "    create_optimal_portfolio(current_date, lookback, stock_list)\n",
    "\n",
    "if __name__ == \"__main__\":\n",
    "    main()"
   ]
  },
  {
   "cell_type": "code",
   "execution_count": null,
   "id": "d0274a42",
   "metadata": {},
   "outputs": [],
   "source": []
  }
 ],
 "metadata": {
  "kernelspec": {
   "display_name": "Python 3 (ipykernel)",
   "language": "python",
   "name": "python3"
  },
  "language_info": {
   "codemirror_mode": {
    "name": "ipython",
    "version": 3
   },
   "file_extension": ".py",
   "mimetype": "text/x-python",
   "name": "python",
   "nbconvert_exporter": "python",
   "pygments_lexer": "ipython3",
   "version": "3.9.7"
  }
 },
 "nbformat": 4,
 "nbformat_minor": 5
}
