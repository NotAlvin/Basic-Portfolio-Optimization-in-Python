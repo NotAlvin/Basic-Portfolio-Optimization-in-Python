{
 "cells": [
  {
   "cell_type": "code",
   "execution_count": 1,
   "id": "d0274a42",
   "metadata": {},
   "outputs": [
    {
     "data": {
      "text/plain": [
       "'\\nGuide to use of program\\nBegin by running the below chunks, it should trigger instructions and entry boxes to follow\\n\\nFollow Steps:\\n\\n    1. Begin by entering the current date to consider most up-to-date data (Ensure it is in YYYY/MM/DD format)\\n    2. Begin entering the Stock Symbol (Ticker) that constitute your portfolio in ALL CAPS.\\n        - If you have mistakenly entered the wrong ticker, enter \"Remove\" to remove the last added ticker\\n        - Once all tickers have been entered, enter \"Done\" to proceed\\n    3. A loading bar should appear while the program is generating possible combinations of weights to create the efficient frontier\\n    4. Once it is done loading the overall return, variance and optimal weightage for your portfolio will appear.\\n'"
      ]
     },
     "execution_count": 1,
     "metadata": {},
     "output_type": "execute_result"
    }
   ],
   "source": [
    "'''\n",
    "Guide to use of program\n",
    "Begin by running the below chunks, it should trigger instructions and entry boxes to follow\n",
    "\n",
    "Follow Steps:\n",
    "\n",
    "    1. Begin by entering the current date to consider most up-to-date data (Ensure it is in YYYY/MM/DD format)\n",
    "    2. Begin entering the Stock Symbol (Ticker) that constitute your portfolio in ALL CAPS.\n",
    "        - If you have mistakenly entered the wrong ticker, enter \"Remove\" to remove the last added ticker\n",
    "        - Once all tickers have been entered, enter \"Done\" to proceed\n",
    "    3. A loading bar should appear while the program is generating possible combinations of weights to create the efficient frontier\n",
    "    4. Once it is done loading the overall return, variance and optimal weightage for your portfolio will appear.\n",
    "'''"
   ]
  },
  {
   "cell_type": "code",
   "execution_count": 6,
   "id": "7146f09c",
   "metadata": {},
   "outputs": [],
   "source": [
    "# Load Packages\n",
    "import numpy as np\n",
    "import pandas as pd\n",
    "from pandas_datareader import data as Data\n",
    "import matplotlib.pyplot as plt\n",
    "from time import sleep\n",
    "from tqdm import tqdm\n",
    "import re\n",
    "from pypfopt.discrete_allocation import DiscreteAllocation, get_latest_prices\n",
    "from pypfopt import objective_functions\n",
    "from pypfopt.efficient_frontier import EfficientFrontier\n",
    "from pypfopt.expected_returns import mean_historical_return\n",
    "from pypfopt.risk_models import CovarianceShrinkage\n",
    "%matplotlib inline\n",
    "\n",
    "def read_data():\n",
    "    total_portfolio_value = input(\"Enter total portfolio value ($): \")\n",
    "    while not total_portfolio_value.isnumeric():\n",
    "        print(\"This does not appear to be a valid value, try again\")\n",
    "        total_portfolio_value = input(\"Enter total portfolio value ($): \")\n",
    "    dateRegex = re.compile(r'(\\d\\d\\d\\d)/(\\d\\d)/(\\d\\d)')\n",
    "    current_date = input(\"Enter current date (YYYY/MM/DD): \")\n",
    "    while not dateRegex.findall(current_date):\n",
    "        print(\"This does not appear to be a valid date, try again\")\n",
    "        current_date = input(\"Enter current date (YYYY/MM/DD): \")\n",
    "    lookback = input(\"Enter lookback period (Years): \")\n",
    "    while not lookback.isdigit():\n",
    "        print(\"This does not appear to be a number of years, try again\")\n",
    "        lookback = input(\"Enter lookback period (Years): \")\n",
    "    finished_entry = False\n",
    "    stock_list = []\n",
    "    start_date = str(int(current_date[0:4]) - int(lookback)) + current_date[4:]\n",
    "    \n",
    "    #print(start_date, current_date)\n",
    "    print(\"Enter all stocks in your portfolio, once all have been entered, input 'Done'\")\n",
    "    while finished_entry == False:\n",
    "        next_stock = input(\"Enter next stock: \")\n",
    "        \n",
    "        if next_stock == \"Done\":\n",
    "            finished_entry = True\n",
    "        elif next_stock == \"Remove\":\n",
    "            a = stock_list.pop()\n",
    "            print(a + \" has been removed from list\")\n",
    "        else:\n",
    "            try:\n",
    "                Data.DataReader([next_stock], 'yahoo', start= start_date, end= current_date)\n",
    "                stock_list.append(next_stock)\n",
    "            except:\n",
    "                print(\"This does not appear to be a real stock, try again\")\n",
    "    return current_date, start_date, stock_list, float(total_portfolio_value)\n",
    "\n"
   ]
  },
  {
   "cell_type": "code",
   "execution_count": 7,
   "id": "cfa2ed06",
   "metadata": {},
   "outputs": [
    {
     "name": "stdout",
     "output_type": "stream",
     "text": [
      "Enter total portfolio value ($): 4700\n",
      "Enter current date (YYYY/MM/DD): 2021/10/28\n",
      "Enter lookback period (Years): 3\n",
      "Enter all stocks in your portfolio, once all have been entered, input 'Done'\n",
      "Enter next stock: FB\n",
      "Enter next stock: GOOGL\n",
      "Enter next stock: AAPL\n",
      "Enter next stock: NKE\n",
      "Enter next stock: Done\n",
      "For a total portfolio value of USD: 4700.0\n",
      "Your discrete allocation should be: \n",
      "AAPL: 9\n",
      "NKE: 6\n",
      "FB: 1\n"
     ]
    },
    {
     "name": "stderr",
     "output_type": "stream",
     "text": [
      "C:\\Users\\alvin\\AppData\\Local\\Packages\\PythonSoftwareFoundation.Python.3.9_qbz5n2kfra8p0\\LocalCache\\local-packages\\Python39\\site-packages\\pypfopt\\efficient_frontier\\efficient_frontier.py:252: UserWarning: max_sharpe transforms the optimization problem so additional objectives may not work as expected.\n",
      "  warnings.warn(\n"
     ]
    }
   ],
   "source": [
    "def main():\n",
    "    current_date, start_date, stock_list, total_portfolio_value = read_data()\n",
    "    df = Data.DataReader(stock_list, 'yahoo', start= start_date, end= current_date)\n",
    "    df = df['Close']\n",
    "    latest_prices = get_latest_prices(df)\n",
    "    mu = mean_historical_return(df)\n",
    "    S = CovarianceShrinkage(df).ledoit_wolf()\n",
    "    ef = EfficientFrontier(mu, S)\n",
    "    ef.add_objective(objective_functions.L2_reg, gamma=0.1)\n",
    "    w = ef.max_sharpe()\n",
    "    da = DiscreteAllocation(w, latest_prices, total_portfolio_value = total_portfolio_value)\n",
    "    allocation, leftover = da.greedy_portfolio()\n",
    "    print(\"For a total portfolio value of USD: \" + str(total_portfolio_value))\n",
    "    print(\"Your discrete allocation should be: \")\n",
    "    for a,b in allocation.items():\n",
    "        print(a + \": \" + str(b))\n",
    "\n",
    "if __name__ == \"__main__\":\n",
    "    main()"
   ]
  },
  {
   "cell_type": "code",
   "execution_count": null,
   "id": "6ce10d56",
   "metadata": {},
   "outputs": [],
   "source": []
  }
 ],
 "metadata": {
  "kernelspec": {
   "display_name": "Python 3 (ipykernel)",
   "language": "python",
   "name": "python3"
  },
  "language_info": {
   "codemirror_mode": {
    "name": "ipython",
    "version": 3
   },
   "file_extension": ".py",
   "mimetype": "text/x-python",
   "name": "python",
   "nbconvert_exporter": "python",
   "pygments_lexer": "ipython3",
   "version": "3.9.7"
  }
 },
 "nbformat": 4,
 "nbformat_minor": 5
}
